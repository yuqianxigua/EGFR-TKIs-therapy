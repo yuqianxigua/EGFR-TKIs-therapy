{
 "cells": [
  {
   "cell_type": "code",
   "execution_count": 5,
   "id": "292e86b4",
   "metadata": {},
   "outputs": [
    {
     "name": "stdout",
     "output_type": "stream",
     "text": [
      "870000\n",
      "(870000,)\n",
      "870000\n",
      "(870000,)\n",
      "870000\n"
     ]
    },
    {
     "data": {
      "image/png": "[encoded data removed]",
      "text/plain": [
       "<Figure size 432x288 with 2 Axes>"
      ]
     },
     "metadata": {
      "needs_background": "light"
     },
     "output_type": "display_data"
    }
   ],
   "source": [
    "#!/usr/bin/python\n",
    "\n",
    "import numpy as np \n",
    "from scipy.integrate import odeint \n",
    "import matplotlib.pyplot as plt\n",
    "import matplotlib as mpl\n",
    "from mpl_toolkits.mplot3d import Axes3D\n",
    "\n",
    "def func(x, t, *arg):\n",
    "    (a, b, c, f, g, h, k, p, q ) = arg\n",
    "    dw = a*x[0] \n",
    "    dx = g*x[0] + b*x[1]\n",
    "    dy = h*x[0] + c*x[2]\n",
    "    dz = k*x[0] + p*x[1] + q*x[2] + f*x[3]\n",
    "    return np.array([dw, dx, dy, dz]) \n",
    "\n",
    "\n",
    "initial_N = 10**9\n",
    "t_end = 1000\n",
    "tan = 567\n",
    "\n",
    "## parameters\n",
    "aA = -0.17\n",
    "bA = 0.045\n",
    "# cA = -0.13\n",
    "fA = 0.022\n",
    "gA = 0.0000001 # W-X\n",
    "hA = 0.0000001 # W-Y\n",
    "kA = 0.0000001 # W-Z\n",
    "pA = 0.0000001 # X-Z\n",
    "qA = 0.0000001 # Y-Z\n",
    "\n",
    "aB = -0.32\n",
    "bB = -0.15\n",
    "# cB = 0.024\n",
    "fB = 0.022\n",
    "gB = 0.0000001 # W-X\n",
    "hB = 0.0000001 # W-Y\n",
    "kB = 0.0000001 # W-Z\n",
    "pB = 0.0000001 # X-Z\n",
    "qB = 0.0000001 # Y-Z\n",
    "\n",
    "finalnumber = list()\n",
    "x = list()\n",
    "y = list()\n",
    "\n",
    "for cA in np.arange(-0.3, -0.01, 0.0001):\n",
    "    for cB in np.arange(0.01, 0.04, 0.0001):\n",
    "        x.append(cA)\n",
    "        paramsA = (aA, bA, cA, fA, gA, hA, kA, pA, qA)\n",
    "        y.append(cB)\n",
    "        paramsB = (aB, bB, cB, fB, gB, hB, kB, pB, qB)\n",
    "        list_t = np.arange(0, tan, 0.01)\n",
    "        list_t1 = np.arange(tan, t_end, 0.1)\n",
    "        cell_init = [initial_N - 10**4 - 10**4 - 10, 10**4, 10**4, 10]\n",
    "        cells = odeint(func, cell_init, list_t, args = paramsB)\n",
    "        i = len(list_t)-1\n",
    "        cell1_init = [cells[i, 0], cells[i, 1], cells[i, 2], cells[i, 3]]\n",
    "        cell1 = odeint(func, cell1_init, list_t1, args = paramsA)\n",
    "        celltotal = cells[:, 0] + cells[:, 1] + cells[:, 2] + cells[:, 3]\n",
    "        celltotal1 = cell1[:, 0] + cell1[:, 1] + cell1[:, 2] + cell1[:, 3]\n",
    "        finalnumber.append(celltotal1[-1])\n",
    "\n",
    "X = np.array(x)\n",
    "print(len(x))\n",
    "print(X.shape)\n",
    "Y = np.array(y)\n",
    "print(len(y))\n",
    "print(Y.shape)\n",
    "# X, Y = np.meshgrid(X, Y)\n",
    "Z = np.array(finalnumber, dtype=float)\n",
    "print(len(finalnumber))\n",
    "    \n",
    "plt.scatter(X, Y, c=Z, cmap=plt.cm.get_cmap('viridis') )\n",
    "plt.colorbar()  # Add a colorbar for reference\n",
    "plt.xlabel('cA')\n",
    "plt.ylabel('cB')\n",
    "plt.title('drugBA-c|total cell#=10^9,x=y=10^4,z=10')\n",
    "\n",
    "plt.show()"
   ]
  },
  {
   "cell_type": "code",
   "execution_count": 2,
   "id": "ff704e1f",
   "metadata": {},
   "outputs": [
    {
     "data": {
      "image/png": "[encoded data removed]",
      "text/plain": [
       "<Figure size 432x288 with 1 Axes>"
      ]
     },
     "metadata": {
      "needs_background": "light"
     },
     "output_type": "display_data"
    }
   ],
   "source": [
    "## bA\n",
    "aBa = -0.32\n",
    "bBa = -0.15\n",
    "cBa = 0.024\n",
    "fBa = 0.022\n",
    "gBa = 0.0000001 # W-X\n",
    "hBa = 0.0000001 # W-Y\n",
    "kBa = 0.0000001 # W-Z\n",
    "pBa = 0.0000001 # X-Z\n",
    "qBa = 0.0000001\n",
    "paramsBa = (aBa, bBa, cBa, fBa, gBa, hBa, kBa, pBa, qBa)\n",
    "\n",
    "yA = list()\n",
    "finalnumbera = list()\n",
    "\n",
    "for cAa in np.arange(-0.3, -0.01, 0.01):\n",
    "    yA.append(cAa)\n",
    "    paramsAa = (aA, bA, cAa, fA, gA, hA, kA, pA, qA)\n",
    "    list_t = np.arange(0, tan, 0.01)\n",
    "    list_t1 = np.arange(tan, t_end, 0.1)\n",
    "    cell_init = [initial_N - 10**4 - 10**4 - 10, 10**4, 10**4, 10]\n",
    "    cells = odeint(func, cell_init, list_t, args = paramsBa)\n",
    "    i = len(list_t)-1\n",
    "    cell1_init = [cells[i, 0], cells[i, 1], cells[i, 2], cells[i, 3]]\n",
    "    cell1 = odeint(func, cell1_init, list_t1, args = paramsAa)\n",
    "    celltotal = cells[:, 0] + cells[:, 1] + cells[:, 2] + cells[:, 3]\n",
    "    celltotal1 = cell1[:, 0] + cell1[:, 1] + cell1[:, 2] + cell1[:, 3]\n",
    "    finalnumbera.append(celltotal1[-1])\n",
    "\n",
    "subfigA = plt.figure()\n",
    "axA = subfigA.add_subplot(111)\n",
    "axA.plot(yA, finalnumbera, label = 'total cell number')\n",
    "axA.set_yscale('log')\n",
    "axA.set_ylim(10**11, 10**13)\n",
    "axA.set_xlabel('cA')\n",
    "axA.set_ylabel('cell number at time1000') \n",
    "axA.set_title('BA-cA|total cell#=10^9, x=10^4, y=10^4, z=10')\n",
    "\n",
    "plt.show()"
   ]
  },
  {
   "cell_type": "code",
   "execution_count": 3,
   "id": "3ecd0a29",
   "metadata": {},
   "outputs": [
    {
     "data": {
      "image/png": "[encoded data removed]",
      "text/plain": [
       "<Figure size 432x288 with 1 Axes>"
      ]
     },
     "metadata": {
      "needs_background": "light"
     },
     "output_type": "display_data"
    }
   ],
   "source": [
    "## bB\n",
    "aAb = -0.17\n",
    "bAb = 0.045\n",
    "cAb = -0.13\n",
    "fAb = 0.022\n",
    "gAb = 0.0000001 # W-X\n",
    "hAb = 0.0000001 # W-Y\n",
    "kAb = 0.0000001 # W-Z\n",
    "pAb = 0.0000001 # X-Z\n",
    "qAb = 0.0000001 # Y-Z\n",
    "paramsAb = (aAb, bAb, cAb, fAb, gAb, hAb, kAb, pAb, qAb )\n",
    "\n",
    "yB = list()\n",
    "finalnumberb = list()\n",
    "\n",
    "for cBb in np.arange(0.01, 0.04, 0.001):\n",
    "    yB.append(cBb)\n",
    "    paramsBb = (aB, bB, cBb, fB, gB, hB, kB, pB, qB)\n",
    "    list_t = np.arange(0, tan, 0.01)\n",
    "    list_t1 = np.arange(tan, t_end, 0.1)\n",
    "    cell_init = [initial_N - 10**4 - 10**4 - 10, 10**4, 10**4, 10]\n",
    "    cells = odeint(func, cell_init, list_t, args = paramsBb)\n",
    "    i = len(list_t)-1\n",
    "    cell1_init = [cells[i, 0], cells[i, 1], cells[i, 2], cells[i, 3]]\n",
    "    cell1 = odeint(func, cell1_init, list_t1, args = paramsAb)\n",
    "    celltotal = cells[:, 0] + cells[:, 1] + cells[:, 2] + cells[:, 3]\n",
    "    celltotal1 = cell1[:, 0] + cell1[:, 1] + cell1[:, 2] + cell1[:, 3]\n",
    "    finalnumberb.append(celltotal1[-1])\n",
    "\n",
    "subfigB = plt.figure()\n",
    "axB = subfigB.add_subplot(111)\n",
    "axB.plot(yB, finalnumberb, label = 'total cell number')\n",
    "axB.set_yscale('log')\n",
    "axB.set_ylim(10**11, 10**13)\n",
    "axB.set_xlabel('cB')\n",
    "axB.set_ylabel('cell number at time1000') \n",
    "axB.set_title('BA-cB|total cell#=10^9, x=10^4, y=10^4, z=10')\n",
    "\n",
    "plt.show()"
   ]
  },
  {
   "cell_type": "code",
   "execution_count": null,
   "id": "422cd66b",
   "metadata": {},
   "outputs": [],
   "source": []
  }
 ],
 "metadata": {
  "kernelspec": {
   "display_name": "Python 3",
   "language": "python",
   "name": "python3"
  },
  "language_info": {
   "codemirror_mode": {
    "name": "ipython",
    "version": 3
   },
   "file_extension": ".py",
   "mimetype": "text/x-python",
   "name": "python",
   "nbconvert_exporter": "python",
   "pygments_lexer": "ipython3",
   "version": "3.8.8"
  }
 },
 "nbformat": 4,
 "nbformat_minor": 5
}
