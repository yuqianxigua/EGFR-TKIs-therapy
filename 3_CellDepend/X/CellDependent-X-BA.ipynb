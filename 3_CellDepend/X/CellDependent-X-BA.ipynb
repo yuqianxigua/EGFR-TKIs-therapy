{
 "cells": [
  {
   "cell_type": "code",
   "execution_count": 1,
   "id": "8b187a6e",
   "metadata": {},
   "outputs": [
    {
     "name": "stdout",
     "output_type": "stream",
     "text": [
      "1190987255272.0015 test\n"
     ]
    },
    {
     "data": {
      "image/png": "[encoded data removed]",
      "text/plain": [
       "<Figure size 432x288 with 1 Axes>"
      ]
     },
     "metadata": {
      "needs_background": "light"
     },
     "output_type": "display_data"
    }
   ],
   "source": [
    "import numpy as np \n",
    "from scipy.integrate import odeint \n",
    "import matplotlib.pyplot as plt \n",
    "\n",
    "def func(x, t, *arg):\n",
    "    (a, b, c, f, g, h, k, p, q ) = arg\n",
    "    dw = a*x[0] \n",
    "    dx = g*x[0] + b*x[1]\n",
    "    dy = h*x[0] + c*x[2]\n",
    "    dz = k*x[0] + p*x[1] + q*x[2] + f*x[3]\n",
    "    return np.array([dw, dx, dy, dz]) \n",
    "\n",
    "initial_N = 10**9\n",
    "t_end = 1000\n",
    "tan = 567\n",
    "\n",
    "aA = -0.17\n",
    "bA = 0.045\n",
    "cA = -0.13\n",
    "fA = 0.022\n",
    "gA = 0.0000001 \n",
    "hA = 0.0000001 \n",
    "kA = 0.0000001 \n",
    "pA = 0.0000001 \n",
    "qA = 0.0000001 \n",
    "paramsA = (aA, bA, cA, fA, gA, hA, kA, pA, qA )\n",
    "aB = -0.32\n",
    "bB = -0.15\n",
    "cB = 0.024\n",
    "fB = 0.022\n",
    "gB = 0.0000001 \n",
    "hB = 0.0000001 \n",
    "kB = 0.0000001 \n",
    "pB = 0.0000001 \n",
    "qB = 0.0000001 \n",
    "paramsB = (aB, bB, cB, fB, gB, hB, kB, pB, qB )\n",
    "\n",
    "fig = plt.figure()\n",
    "ax = fig.add_subplot(111)\n",
    "finalnumber = list()\n",
    "xprop = list()\n",
    "for x in np.arange(10, 100000000, 100000):\n",
    "    xprop.append(x/initial_N)\n",
    "    list_t = np.arange(0, tan, 0.01)\n",
    "    list_t1 = np.arange(tan, t_end, 0.01)\n",
    "    cell_init = [initial_N - x - 10**4 - 10, x, 10**4, 10]\n",
    "    cells = odeint(func, cell_init, list_t, args = paramsB)\n",
    "    i = len(list_t)-1\n",
    "    cell1_init = [cells[i, 0], cells[i, 1], cells[i, 2], cells[i, 3]]\n",
    "    cell1 = odeint(func, cell1_init, list_t1, args = paramsA)\n",
    "    celltotal1 = cell1[:, 0] + cell1[:, 1] + cell1[:, 2] + cell1[:, 3]\n",
    "    finalnumber.append(celltotal1[-1])\n",
    "ax.plot(xprop, finalnumber)\n",
    "lastone = finalnumber[-1]\n",
    "\n",
    "ax.legend('total cell number')\n",
    "\n",
    "ax.set_yscale('log')\n",
    "ax.set_xscale('log')\n",
    "\n",
    "ax.set_ylim(10**11, 10**16)\n",
    "ax.set_xlabel('initial proportion of Type-X')\n",
    "ax.set_ylabel('cell number at time 1000') \n",
    "ax.set_title('drugB-A(st=567)|initiall cell#=10^9, y=10^4, z=10')\n",
    "\n",
    "print (lastone, 'test')\n",
    "plt.show()"
   ]
  },
  {
   "cell_type": "code",
   "execution_count": null,
   "id": "4bc1498a",
   "metadata": {},
   "outputs": [],
   "source": []
  }
 ],
 "metadata": {
  "kernelspec": {
   "display_name": "Python 3",
   "language": "python",
   "name": "python3"
  },
  "language_info": {
   "codemirror_mode": {
    "name": "ipython",
    "version": 3
   },
   "file_extension": ".py",
   "mimetype": "text/x-python",
   "name": "python",
   "nbconvert_exporter": "python",
   "pygments_lexer": "ipython3",
   "version": "3.8.8"
  }
 },
 "nbformat": 4,
 "nbformat_minor": 5
}
