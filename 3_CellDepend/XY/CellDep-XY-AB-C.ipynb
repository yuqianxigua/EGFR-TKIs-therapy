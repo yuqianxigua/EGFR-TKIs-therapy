{
 "cells": [
  {
   "cell_type": "code",
   "execution_count": 5,
   "id": "42692309",
   "metadata": {},
   "outputs": [
    {
     "name": "stdout",
     "output_type": "stream",
     "text": [
      "4900\n",
      "(4900,)\n",
      "4900\n",
      "(4900,)\n",
      "4900\n"
     ]
    },
    {
     "data": {
      "image/png": "[encoded data removed]",
      "text/plain": [
       "<Figure size 432x288 with 2 Axes>"
      ]
     },
     "metadata": {
      "needs_background": "light"
     },
     "output_type": "display_data"
    }
   ],
   "source": [
    "## CellDep-XY-AB-C\n",
    "\n",
    "import numpy as np \n",
    "import matplotlib as mpl\n",
    "from scipy.integrate import odeint \n",
    "import matplotlib.pyplot as plt \n",
    "\n",
    "def func(x, t, *arg):\n",
    "    (a, b, c, f, g, h, k, p, q ) = arg\n",
    "    dw = a*x[0] \n",
    "    dx = g*x[0] + b*x[1]\n",
    "    dy = h*x[0] + c*x[2]\n",
    "    dz = k*x[0] + p*x[1] + q*x[2] + f*x[3]\n",
    "    return np.array([dw, dx, dy, dz]) \n",
    "\n",
    "def title_and_labels(ax, title):\n",
    "    ax.set_title(title)\n",
    "    ax.set_xlabel(\"$x$\", fontsize=10)\n",
    "    ax.set_ylabel(\"$y$\", fontsize=10)\n",
    "    ax.set_zlabel(\"$z$\", fontsize=10)\n",
    "\n",
    "initial_N = 10**9\n",
    "# initial_N = 1000\n",
    "t_end = 1000\n",
    "tana = 307\n",
    "tanb = 567\n",
    "\n",
    "aA = -0.17\n",
    "bA = 0.045\n",
    "cA = -0.13\n",
    "fA = 0.022\n",
    "gA = 0.0000001 # W-X\n",
    "hA = 0.0000001 # W-Y\n",
    "kA = 0.0000001 # W-Z\n",
    "pA = 0.0000001 # X-Z\n",
    "qA = 0.0000001 # Y-Z\n",
    "paramsA = (aA, bA, cA, fA, gA, hA, kA, pA, qA )\n",
    "aB = -0.32\n",
    "bB = -0.15\n",
    "cB = 0.024\n",
    "fB = 0.022\n",
    "gB = 0.0000001 # W-X\n",
    "hB = 0.0000001 # W-Y\n",
    "kB = 0.0000001 # W-Z\n",
    "pB = 0.0000001 # X-Z\n",
    "qB = 0.0000001 # Y-Z\n",
    "paramsB = (aB, bB, cB, fB, gB, hB, kB, pB, qB )\n",
    "aC = -0.064\n",
    "bC = -0.0335\n",
    "cC = -0.0335\n",
    "fC = 0.022\n",
    "gC = hC = kC = pC = qC =0.0000001\n",
    "paramsC = (aC, bC, cC, fC, gC, hC, kC, pC, qC)\n",
    "\n",
    "finalnumbera = list()\n",
    "finalnumberc = list()\n",
    "zratio = list()\n",
    "xprop = list()\n",
    "yprop = list()\n",
    "\n",
    "for nx in np.arange(1, 8, 0.1):\n",
    "    for ny in np.arange(1, 8, 0.1):\n",
    "        xprop.append((10**nx)/initial_N)\n",
    "        yprop.append((10**ny)/initial_N)\n",
    "        list_ta = np.arange(0, tana, 0.01)\n",
    "        list_t1a = np.arange(tana, t_end, 0.01)\n",
    "        list_tc = np.arange(0, t_end, 0.01)\n",
    "        cell_init = [initial_N - 10**nx - 10**ny - 10, 10**nx, 10**ny, 10]\n",
    "        cellsa = odeint(func, cell_init, list_ta, args = paramsA)\n",
    "        ia = len(list_ta)-1\n",
    "        cell1_inita = [cellsa[ia, 0], cellsa[ia, 1], cellsa[ia, 2], cellsa[ia, 3]]\n",
    "        cell1a = odeint(func, cell1_inita, list_t1a, args = paramsB)\n",
    "        celltotal1a = cell1a[:, 0] + cell1a[:, 1] + cell1a[:, 2] + cell1a[:, 3]\n",
    "        finalnumbera.append(celltotal1a[-1])\n",
    "        cellsc = odeint(func, cell_init, list_tc, args = paramsC)\n",
    "        celltotalc = cellsc[:, 0] + cellsc[:, 1] + cellsc[:, 2] + cellsc[:, 3]\n",
    "        finalnumberc.append(celltotalc[-1])\n",
    "\n",
    "zratio = [finalnumberc/finalnumbera for finalnumbera, finalnumberc in zip(finalnumbera, finalnumberc)]\n",
    "\n",
    "X = np.array(xprop)\n",
    "print(len(xprop))\n",
    "print(X.shape)\n",
    "Y = np.array(yprop)\n",
    "print(len(yprop))\n",
    "print(Y.shape)\n",
    "\n",
    "Z = np.array(zratio, dtype=float)\n",
    "print(len(zratio))\n",
    "\n",
    "cmap_thresholds = [0, 2, np.inf]\n",
    "colors = ['yellow', 'white', 'red']\n",
    "\n",
    "plt.scatter(X, Y, c=Z, cmap=plt.cm.get_cmap('autumn'), vmin=0, vmax=2)\n",
    "plt.colorbar()  # Add a colorbar for reference\n",
    "plt.yscale('log')\n",
    "plt.xscale('log')\n",
    "plt.xlabel('proportion of X cell')\n",
    "plt.ylabel('proportion of Y cell')\n",
    "plt.title('C/AB|initiall cell#=10^9, z=10')\n",
    "\n",
    "plt.show()"
   ]
  },
  {
   "cell_type": "code",
   "execution_count": null,
   "id": "227416a4",
   "metadata": {},
   "outputs": [],
   "source": []
  }
 ],
 "metadata": {
  "kernelspec": {
   "display_name": "Python 3",
   "language": "python",
   "name": "python3"
  },
  "language_info": {
   "codemirror_mode": {
    "name": "ipython",
    "version": 3
   },
   "file_extension": ".py",
   "mimetype": "text/x-python",
   "name": "python",
   "nbconvert_exporter": "python",
   "pygments_lexer": "ipython3",
   "version": "3.8.8"
  }
 },
 "nbformat": 4,
 "nbformat_minor": 5
}
