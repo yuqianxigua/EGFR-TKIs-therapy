{
 "cells": [
  {
   "cell_type": "code",
   "execution_count": 1,
   "id": "fefb52b5",
   "metadata": {},
   "outputs": [
    {
     "name": "stdout",
     "output_type": "stream",
     "text": [
      "39654025091678.02 test\n"
     ]
    },
    {
     "data": {
      "image/png": "[encoded data removed]",
      "text/plain": [
       "<Figure size 432x288 with 1 Axes>"
      ]
     },
     "metadata": {
      "needs_background": "light"
     },
     "output_type": "display_data"
    }
   ],
   "source": [
    "#!/usr/bin/python\n",
    "\n",
    "import numpy as np \n",
    "from scipy.integrate import odeint \n",
    "import matplotlib.pyplot as plt \n",
    "\n",
    "def func(x, t, *arg):\n",
    "    (a, b, c, f, g, h, k, p, q ) = arg\n",
    "    dw = a*x[0] \n",
    "    dx = g*x[0] + b*x[1]\n",
    "    dy = h*x[0] + c*x[2]\n",
    "    dz = k*x[0] + p*x[1] + q*x[2] + f*x[3]\n",
    "    return np.array([dw, dx, dy, dz]) \n",
    "\n",
    "initial_N = 10**9\n",
    "t_end = 1000\n",
    "\n",
    "aC = -0.064\n",
    "bC = -0.0335\n",
    "cC = -0.0335\n",
    "fC = 0.022\n",
    "gC = hC = kC = pC = qC =0.0000001\n",
    "paramsC = (aC, bC, cC, fC, gC, hC, kC, pC, qC)\n",
    "\n",
    "fig = plt.figure()\n",
    "ax = fig.add_subplot(111)\n",
    "finalnumber = list()\n",
    "zprop = list()\n",
    "for z in np.arange(1, 10000, 100):\n",
    "    zprop.append(z/initial_N)\n",
    "    list_t = np.arange(0, t_end, 0.01)\n",
    "    cell_init = (initial_N - 10**4 - 10**4 - z, 10**4, 10**4, z)\n",
    "    cells = odeint(func, cell_init, list_t, args = paramsC)\n",
    "    celltotal = cells[:, 0] + cells[:, 1] + cells[:, 2] + cells[:, 3]\n",
    "    finalnumber.append(celltotal[-1])\n",
    "ax.plot(zprop, finalnumber)\n",
    "lastone = finalnumber[-1]\n",
    "\n",
    "ax.legend('total cell number')\n",
    "\n",
    "ax.set_yscale('log')\n",
    "ax.set_xscale('log')\n",
    "\n",
    "ax.set_ylim(10**11, 10**16)\n",
    "ax.set_xlabel('initial proportion of Type-Z')\n",
    "ax.set_ylabel('cell number at time 1000') \n",
    "ax.set_title('drugA+B|initiall cell#=10^9, x=10^4, y=10^4')\n",
    "\n",
    "print (lastone, 'test')\n",
    "plt.show()"
   ]
  },
  {
   "cell_type": "code",
   "execution_count": null,
   "id": "8fee8367",
   "metadata": {},
   "outputs": [],
   "source": []
  }
 ],
 "metadata": {
  "kernelspec": {
   "display_name": "Python 3",
   "language": "python",
   "name": "python3"
  },
  "language_info": {
   "codemirror_mode": {
    "name": "ipython",
    "version": 3
   },
   "file_extension": ".py",
   "mimetype": "text/x-python",
   "name": "python",
   "nbconvert_exporter": "python",
   "pygments_lexer": "ipython3",
   "version": "3.8.8"
  }
 },
 "nbformat": 4,
 "nbformat_minor": 5
}
