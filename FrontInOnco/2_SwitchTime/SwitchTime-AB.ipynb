{
 "cells": [
  {
   "cell_type": "code",
   "execution_count": 2,
   "id": "8be28036",
   "metadata": {},
   "outputs": [
    {
     "name": "stdout",
     "output_type": "stream",
     "text": [
      "95 1903767509960.6692 \n",
      " 145 1907167154652.5344 \n",
      " 195 1918365816370.329 \n",
      " 295 2065432626173.2256\n"
     ]
    },
    {
     "data": {
      "image/png": "[encoded data removed]",
      "text/plain": [
       "<Figure size 432x288 with 1 Axes>"
      ]
     },
     "metadata": {
      "needs_background": "light"
     },
     "output_type": "display_data"
    }
   ],
   "source": [
    "#!/usr/bin/python\n",
    "\n",
    "import numpy as np \n",
    "from scipy.integrate import odeint \n",
    "import matplotlib.pyplot as plt \n",
    "\n",
    "def func(x, t, *arg):\n",
    "    (a, b, c, f, g, h, k, p, q ) = arg\n",
    "    dw = a*x[0] \n",
    "    dx = g*x[0] + b*x[1]\n",
    "    dy = h*x[0] + c*x[2]\n",
    "    dz = k*x[0] + p*x[1] + q*x[2] + f*x[3]\n",
    "    return np.array([dw, dx, dy, dz]) \n",
    "    \n",
    "initial_N = 10**9\n",
    "tim = []\n",
    "total = []\n",
    "output = []\n",
    "t_end = 1000\n",
    "\n",
    "aA = -0.17\n",
    "bA = 0.045\n",
    "cA = -0.13\n",
    "fA = 0.022 \n",
    "gA = 0.0000001 \n",
    "hA = 0.0000001 \n",
    "kA = 0.0000001 \n",
    "pA = 0.0000001 \n",
    "qA = 0.0000001 \n",
    "paramsA = (aA, bA, cA, fA, gA, hA, kA, pA, qA )\n",
    "aB = -0.32\n",
    "bB = -0.15\n",
    "cB = 0.024\n",
    "fB = 0.022 \n",
    "gB = 0.0000001 \n",
    "hB = 0.0000001 \n",
    "kB = 0.0000001 \n",
    "pB = 0.0000001 \n",
    "qB = 0.0000001 \n",
    "paramsB = (aB, bB, cB, fB, gB, hB, kB, pB, qB )\n",
    "\n",
    "for t in np.arange(1, 1000, 1):\n",
    "    tan = t\n",
    "    cell_init = (initial_N - 10**4 - 10**4 - 10, 10**4, 10**4, 10)\n",
    "    list_t = np.arange(0, tan, 0.01) \n",
    "    list_t1 = np.arange(tan, t_end, 0.01) \n",
    "    cells = odeint(func, cell_init, list_t, args = paramsA)  \n",
    "    i = len(list_t)-1\n",
    "    cell1_init = [cells[i, 0], cells[i, 1], cells[i, 2], cells[i, 3]]    \n",
    "    cell1 = odeint(func, cell1_init, list_t1, args = paramsB) \n",
    "    celltotal1 = cell1[:, 0] + cell1[:, 1] + cell1[:, 2] + cell1[:, 3]\n",
    "    tim.append(t) \n",
    "    total.append(celltotal1[-1]) \n",
    "\n",
    "fig = plt.figure()\n",
    "ax = fig.add_subplot(111)\n",
    "print(tim[94], total[94],'\\n',tim[144], total[144],'\\n',tim[194], total[194],'\\n',tim[294], total[294])\n",
    "ax.plot(tim, total, label='total cell numbers')\n",
    "ax.legend()\n",
    "\n",
    "ax.set_xlim(0, 1000)\n",
    "ax.set_ylim(0.1*(10**12),6*(10**12))\n",
    "ax.set_xlabel('switch time')\n",
    "ax.set_ylabel('total cell number at time 1000') #tef\n",
    "ax.set_title('10^9/^4x^4y10z')\n",
    "\n",
    "plt.show()"
   ]
  },
  {
   "cell_type": "code",
   "execution_count": null,
   "id": "19e82f68",
   "metadata": {},
   "outputs": [],
   "source": []
  }
 ],
 "metadata": {
  "kernelspec": {
   "display_name": "Python 3",
   "language": "python",
   "name": "python3"
  },
  "language_info": {
   "codemirror_mode": {
    "name": "ipython",
    "version": 3
   },
   "file_extension": ".py",
   "mimetype": "text/x-python",
   "name": "python",
   "nbconvert_exporter": "python",
   "pygments_lexer": "ipython3",
   "version": "3.8.8"
  }
 },
 "nbformat": 4,
 "nbformat_minor": 5
}
